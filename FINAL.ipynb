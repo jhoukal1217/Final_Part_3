{
 "cells": [
  {
   "cell_type": "code",
   "execution_count": 1,
   "metadata": {},
   "outputs": [],
   "source": [
    "import matplotlib.pyplot as plt\n",
    "\n",
    "% matplotlib inline"
   ]
  },
  {
   "cell_type": "code",
   "execution_count": 73,
   "metadata": {},
   "outputs": [],
   "source": [
    "import pandas as pd\n",
    "import numpy as np\n",
    "import seaborn as sns\n",
    "import datetime as DT\n",
    "import collections, os,pydotplus, StringIO, operator\n",
    "from sklearn.tree import DecisionTreeClassifier, DecisionTreeRegressor\n",
    "from sklearn import metrics, tree\n",
    "from sklearn.tree import export_graphviz\n",
    "from sklearn.model_selection import cross_val_score, train_test_split\n",
    "from sklearn.ensemble import RandomForestRegressor\n",
    "from sklearn.feature_selection import SelectFromModel\n",
    "\n",
    "\n",
    "\n",
    "os.chdir('C:\\Users\\jhoukal\\Desktop\\New folder')"
   ]
  },
  {
   "cell_type": "code",
   "execution_count": 79,
   "metadata": {},
   "outputs": [
    {
     "data": {
      "text/plain": [
       "536108"
      ]
     },
     "execution_count": 79,
     "metadata": {},
     "output_type": "execute_result"
    }
   ],
   "source": []
  },
  {
   "cell_type": "code",
   "execution_count": 3,
   "metadata": {},
   "outputs": [],
   "source": [
    "Login = pd.read_csv('LoginData.csv')\n",
    "Login.rename(columns={ Login.columns[0]: \"ENTITY\"}, inplace=True)\n",
    "\n",
    "Partner = pd.read_csv('PartnerData.csv')\n",
    "Partner.rename(columns={ Partner.columns[0]: \"ENTITY\"}, inplace=True)\n",
    "\n",
    "Events = pd.read_csv('EventData.csv')\n",
    "Events.rename(columns={ Events.columns[0]: \"ENTITY\"}, inplace=True)\n",
    "\n",
    "SF = pd.read_csv('Salesforce.csv')\n",
    "SF.rename(columns={ SF.columns[0]: \"ENTITY\"}, inplace=True)\n",
    "SF.drop_duplicates(['ENTITY'], inplace=True)"
   ]
  },
  {
   "cell_type": "code",
   "execution_count": 4,
   "metadata": {},
   "outputs": [],
   "source": [
    "now=pd.Timestamp(DT.datetime.now()) #for age calculation\n",
    "Login.loc[:, 'DATE_OF_BIRTH'] = pd.to_datetime(Login.loc[:, 'DATE_OF_BIRTH'])\n",
    "Login.loc[:, 'AGE'] = (now - Login.loc[:, 'DATE_OF_BIRTH']).astype('<m8[Y]')\n",
    "Login.drop(['DATE_OF_BIRTH'], axis=1, inplace=True)"
   ]
  },
  {
   "cell_type": "code",
   "execution_count": 5,
   "metadata": {},
   "outputs": [],
   "source": [
    "df = pd.merge(Login, \n",
    "              pd.merge(Events, \n",
    "                       Partner, \n",
    "                       on='ENTITY', how='outer'),\n",
    "                  on='ENTITY', how='outer')\n",
    "\n",
    "df.drop_duplicates(['ENTITY'], inplace=True) #occasional duplicate users here, too. I don't need them. \n",
    "\n",
    "df['CONTACT'] = np.where(df['ENTITY'].isin(SF['ENTITY']), True,np.nan) #true/false if member actually contacted. "
   ]
  },
  {
   "cell_type": "code",
   "execution_count": 171,
   "metadata": {},
   "outputs": [
    {
     "data": {
      "text/html": [
       "<div>\n",
       "<style scoped>\n",
       "    .dataframe tbody tr th:only-of-type {\n",
       "        vertical-align: middle;\n",
       "    }\n",
       "\n",
       "    .dataframe tbody tr th {\n",
       "        vertical-align: top;\n",
       "    }\n",
       "\n",
       "    .dataframe thead th {\n",
       "        text-align: right;\n",
       "    }\n",
       "</style>\n",
       "<table border=\"1\" class=\"dataframe\">\n",
       "  <thead>\n",
       "    <tr style=\"text-align: right;\">\n",
       "      <th></th>\n",
       "      <th>FIRST_APP_LOGIN_DATE</th>\n",
       "      <th>FIRST_WEB_LOGIN_DATE</th>\n",
       "      <th>earned_status_adj</th>\n",
       "      <th>hra_completion_date</th>\n",
       "      <th>vc_completion_date</th>\n",
       "      <th>COVERAGE_EFF_DATE</th>\n",
       "      <th>ZIP_CD</th>\n",
       "      <th>AGE</th>\n",
       "      <th>eventdesc</th>\n",
       "      <th>partner_name</th>\n",
       "      <th>CONTACT</th>\n",
       "    </tr>\n",
       "    <tr>\n",
       "      <th>ENTITY</th>\n",
       "      <th></th>\n",
       "      <th></th>\n",
       "      <th></th>\n",
       "      <th></th>\n",
       "      <th></th>\n",
       "      <th></th>\n",
       "      <th></th>\n",
       "      <th></th>\n",
       "      <th></th>\n",
       "      <th></th>\n",
       "      <th></th>\n",
       "    </tr>\n",
       "  </thead>\n",
       "  <tbody>\n",
       "    <tr>\n",
       "      <th>1.400067e+09</th>\n",
       "      <td>NaN</td>\n",
       "      <td>4/8/2015</td>\n",
       "      <td>Bronze</td>\n",
       "      <td>NaN</td>\n",
       "      <td>NaN</td>\n",
       "      <td>2/23/2015</td>\n",
       "      <td>77064</td>\n",
       "      <td>35-49</td>\n",
       "      <td>NaN</td>\n",
       "      <td>NaN</td>\n",
       "      <td>NaN</td>\n",
       "    </tr>\n",
       "    <tr>\n",
       "      <th>1.400078e+09</th>\n",
       "      <td>NaN</td>\n",
       "      <td>11/21/2016</td>\n",
       "      <td>Bronze</td>\n",
       "      <td>NaN</td>\n",
       "      <td>NaN</td>\n",
       "      <td>1/1/2014</td>\n",
       "      <td>97405</td>\n",
       "      <td>35-49</td>\n",
       "      <td>NaN</td>\n",
       "      <td>NaN</td>\n",
       "      <td>1.0</td>\n",
       "    </tr>\n",
       "    <tr>\n",
       "      <th>1.400081e+09</th>\n",
       "      <td>4/3/2017</td>\n",
       "      <td>2/8/2013</td>\n",
       "      <td>Platinum</td>\n",
       "      <td>1/1/2018 0:00</td>\n",
       "      <td>3/9/2018 0:00</td>\n",
       "      <td>1/1/2013</td>\n",
       "      <td>32832</td>\n",
       "      <td>50-64</td>\n",
       "      <td>NaN</td>\n",
       "      <td>APPLE</td>\n",
       "      <td>NaN</td>\n",
       "    </tr>\n",
       "    <tr>\n",
       "      <th>1.400100e+09</th>\n",
       "      <td>NaN</td>\n",
       "      <td>1/11/2013</td>\n",
       "      <td>Silver</td>\n",
       "      <td>1/29/2018 0:00</td>\n",
       "      <td>2/13/2018 0:00</td>\n",
       "      <td>1/1/2011</td>\n",
       "      <td>55442</td>\n",
       "      <td>35-49</td>\n",
       "      <td>NaN</td>\n",
       "      <td>NaN</td>\n",
       "      <td>1.0</td>\n",
       "    </tr>\n",
       "    <tr>\n",
       "      <th>1.400104e+09</th>\n",
       "      <td>4/12/2016</td>\n",
       "      <td>4/12/2016</td>\n",
       "      <td>Platinum</td>\n",
       "      <td>12/1/2017 0:00</td>\n",
       "      <td>NaN</td>\n",
       "      <td>11/3/2014</td>\n",
       "      <td>61115</td>\n",
       "      <td>50-64</td>\n",
       "      <td>NaN</td>\n",
       "      <td>Google Fit</td>\n",
       "      <td>1.0</td>\n",
       "    </tr>\n",
       "  </tbody>\n",
       "</table>\n",
       "</div>"
      ],
      "text/plain": [
       "             FIRST_APP_LOGIN_DATE FIRST_WEB_LOGIN_DATE earned_status_adj  \\\n",
       "ENTITY                                                                     \n",
       "1.400067e+09                  NaN             4/8/2015            Bronze   \n",
       "1.400078e+09                  NaN           11/21/2016            Bronze   \n",
       "1.400081e+09             4/3/2017             2/8/2013          Platinum   \n",
       "1.400100e+09                  NaN            1/11/2013            Silver   \n",
       "1.400104e+09            4/12/2016            4/12/2016          Platinum   \n",
       "\n",
       "             hra_completion_date vc_completion_date COVERAGE_EFF_DATE ZIP_CD  \\\n",
       "ENTITY                                                                         \n",
       "1.400067e+09                 NaN                NaN         2/23/2015  77064   \n",
       "1.400078e+09                 NaN                NaN          1/1/2014  97405   \n",
       "1.400081e+09       1/1/2018 0:00      3/9/2018 0:00          1/1/2013  32832   \n",
       "1.400100e+09      1/29/2018 0:00     2/13/2018 0:00          1/1/2011  55442   \n",
       "1.400104e+09      12/1/2017 0:00                NaN         11/3/2014  61115   \n",
       "\n",
       "                AGE eventdesc partner_name  CONTACT  \n",
       "ENTITY                                               \n",
       "1.400067e+09  35-49       NaN          NaN      NaN  \n",
       "1.400078e+09  35-49       NaN          NaN      1.0  \n",
       "1.400081e+09  50-64       NaN        APPLE      NaN  \n",
       "1.400100e+09  35-49       NaN          NaN      1.0  \n",
       "1.400104e+09  50-64       NaN   Google Fit      1.0  "
      ]
     },
     "execution_count": 171,
     "metadata": {},
     "output_type": "execute_result"
    }
   ],
   "source": [
    "df.head()"
   ]
  },
  {
   "cell_type": "code",
   "execution_count": 6,
   "metadata": {},
   "outputs": [
    {
     "name": "stdout",
     "output_type": "stream",
     "text": [
      "FIRST_APP_LOGIN_DATE    276182\n",
      "FIRST_WEB_LOGIN_DATE     20112\n",
      "earned_status_adj        20157\n",
      "hra_completion_date     229520\n",
      "vc_completion_date      381478\n",
      "COVERAGE_EFF_DATE        20047\n",
      "ZIP_CD                   44178\n",
      "AGE                      20047\n",
      "eventdesc               498705\n",
      "partner_name            288187\n",
      "CONTACT                 457902\n",
      "dtype: int64\n"
     ]
    }
   ],
   "source": [
    "df.set_index('ENTITY', inplace=True)\n",
    "print(df.isnull().sum())"
   ]
  },
  {
   "cell_type": "code",
   "execution_count": 7,
   "metadata": {},
   "outputs": [],
   "source": [
    "df['AGE'] = pd.cut(df['AGE'], [0, 18, 34, 49, 64, 80], labels=['0-18', '19-34', '35-49', '50-64', '65-80'])"
   ]
  },
  {
   "cell_type": "code",
   "execution_count": 8,
   "metadata": {},
   "outputs": [],
   "source": [
    "mydata = df.loc[:, (df.columns != 'AGE') & (df.columns != 'earned_status_adj')].notnull().astype('int')\n",
    "mydata = pd.merge(mydata,df[['AGE','earned_status_adj']],left_index=True, right_index=True)"
   ]
  },
  {
   "cell_type": "code",
   "execution_count": 9,
   "metadata": {},
   "outputs": [],
   "source": [
    "mydata = pd.get_dummies(mydata, columns=['earned_status_adj'], drop_first=False)"
   ]
  },
  {
   "cell_type": "code",
   "execution_count": 10,
   "metadata": {},
   "outputs": [],
   "source": [
    "mydata.loc[:, 'AGE'] = mydata.loc[:, 'AGE'].dropna()\n",
    "mydata = pd.get_dummies(mydata, columns=['AGE'], drop_first=True)"
   ]
  },
  {
   "cell_type": "code",
   "execution_count": 11,
   "metadata": {},
   "outputs": [
    {
     "data": {
      "text/plain": [
       "FIRST_APP_LOGIN_DATE          259926\n",
       "FIRST_WEB_LOGIN_DATE          515996\n",
       "hra_completion_date           306588\n",
       "vc_completion_date            154630\n",
       "COVERAGE_EFF_DATE             516061\n",
       "ZIP_CD                        491930\n",
       "eventdesc                      37403\n",
       "partner_name                  247921\n",
       "CONTACT                        78206\n",
       "earned_status_adj_Bronze      251615\n",
       "earned_status_adj_Gold         83230\n",
       "earned_status_adj_Platinum     68237\n",
       "earned_status_adj_Silver      112869\n",
       "AGE_19-34                     131622\n",
       "AGE_35-49                     205939\n",
       "AGE_50-64                     158170\n",
       "AGE_65-80                      14879\n",
       "dtype: int64"
      ]
     },
     "execution_count": 11,
     "metadata": {},
     "output_type": "execute_result"
    }
   ],
   "source": [
    "(mydata == 1).sum(axis=1)#sum of conversions by row (member)\n",
    "(mydata == 1).sum(axis=0)#sum of conversions by column (feature)"
   ]
  },
  {
   "cell_type": "code",
   "execution_count": 172,
   "metadata": {},
   "outputs": [
    {
     "data": {
      "text/html": [
       "<div>\n",
       "<style scoped>\n",
       "    .dataframe tbody tr th:only-of-type {\n",
       "        vertical-align: middle;\n",
       "    }\n",
       "\n",
       "    .dataframe tbody tr th {\n",
       "        vertical-align: top;\n",
       "    }\n",
       "\n",
       "    .dataframe thead th {\n",
       "        text-align: right;\n",
       "    }\n",
       "</style>\n",
       "<table border=\"1\" class=\"dataframe\">\n",
       "  <thead>\n",
       "    <tr style=\"text-align: right;\">\n",
       "      <th></th>\n",
       "      <th>FIRST_WEB_LOGIN_DATE</th>\n",
       "      <th>ZIP_CD</th>\n",
       "      <th>hra_completion_date</th>\n",
       "      <th>FIRST_APP_LOGIN_DATE</th>\n",
       "      <th>earned_status_adj_Bronze</th>\n",
       "      <th>partner_name</th>\n",
       "      <th>AGE_35-49</th>\n",
       "      <th>AGE_50-64</th>\n",
       "      <th>vc_completion_date</th>\n",
       "      <th>AGE_19-34</th>\n",
       "      <th>earned_status_adj_Silver</th>\n",
       "      <th>earned_status_adj_Gold</th>\n",
       "      <th>CONTACT</th>\n",
       "      <th>earned_status_adj_Platinum</th>\n",
       "      <th>eventdesc</th>\n",
       "      <th>AGE_65-80</th>\n",
       "      <th>BASE</th>\n",
       "      <th>PRED</th>\n",
       "      <th>OUTCOME</th>\n",
       "    </tr>\n",
       "    <tr>\n",
       "      <th>ENTITY</th>\n",
       "      <th></th>\n",
       "      <th></th>\n",
       "      <th></th>\n",
       "      <th></th>\n",
       "      <th></th>\n",
       "      <th></th>\n",
       "      <th></th>\n",
       "      <th></th>\n",
       "      <th></th>\n",
       "      <th></th>\n",
       "      <th></th>\n",
       "      <th></th>\n",
       "      <th></th>\n",
       "      <th></th>\n",
       "      <th></th>\n",
       "      <th></th>\n",
       "      <th></th>\n",
       "      <th></th>\n",
       "      <th></th>\n",
       "    </tr>\n",
       "  </thead>\n",
       "  <tbody>\n",
       "    <tr>\n",
       "      <th>1.400067e+09</th>\n",
       "      <td>1</td>\n",
       "      <td>1</td>\n",
       "      <td>0</td>\n",
       "      <td>0</td>\n",
       "      <td>1</td>\n",
       "      <td>0</td>\n",
       "      <td>1</td>\n",
       "      <td>0</td>\n",
       "      <td>0</td>\n",
       "      <td>0</td>\n",
       "      <td>0</td>\n",
       "      <td>0</td>\n",
       "      <td>0</td>\n",
       "      <td>0</td>\n",
       "      <td>0</td>\n",
       "      <td>0</td>\n",
       "      <td>0</td>\n",
       "      <td>0.021655</td>\n",
       "      <td>0</td>\n",
       "    </tr>\n",
       "    <tr>\n",
       "      <th>1.400078e+09</th>\n",
       "      <td>1</td>\n",
       "      <td>1</td>\n",
       "      <td>0</td>\n",
       "      <td>0</td>\n",
       "      <td>1</td>\n",
       "      <td>0</td>\n",
       "      <td>1</td>\n",
       "      <td>0</td>\n",
       "      <td>0</td>\n",
       "      <td>0</td>\n",
       "      <td>0</td>\n",
       "      <td>0</td>\n",
       "      <td>1</td>\n",
       "      <td>0</td>\n",
       "      <td>0</td>\n",
       "      <td>0</td>\n",
       "      <td>0</td>\n",
       "      <td>0.021655</td>\n",
       "      <td>0</td>\n",
       "    </tr>\n",
       "    <tr>\n",
       "      <th>1.400081e+09</th>\n",
       "      <td>1</td>\n",
       "      <td>1</td>\n",
       "      <td>1</td>\n",
       "      <td>1</td>\n",
       "      <td>0</td>\n",
       "      <td>1</td>\n",
       "      <td>0</td>\n",
       "      <td>1</td>\n",
       "      <td>1</td>\n",
       "      <td>0</td>\n",
       "      <td>0</td>\n",
       "      <td>0</td>\n",
       "      <td>0</td>\n",
       "      <td>1</td>\n",
       "      <td>0</td>\n",
       "      <td>0</td>\n",
       "      <td>1</td>\n",
       "      <td>0.422718</td>\n",
       "      <td>0</td>\n",
       "    </tr>\n",
       "    <tr>\n",
       "      <th>1.400100e+09</th>\n",
       "      <td>1</td>\n",
       "      <td>1</td>\n",
       "      <td>1</td>\n",
       "      <td>0</td>\n",
       "      <td>0</td>\n",
       "      <td>0</td>\n",
       "      <td>1</td>\n",
       "      <td>0</td>\n",
       "      <td>1</td>\n",
       "      <td>0</td>\n",
       "      <td>1</td>\n",
       "      <td>0</td>\n",
       "      <td>1</td>\n",
       "      <td>0</td>\n",
       "      <td>0</td>\n",
       "      <td>0</td>\n",
       "      <td>1</td>\n",
       "      <td>0.113295</td>\n",
       "      <td>0</td>\n",
       "    </tr>\n",
       "    <tr>\n",
       "      <th>1.400104e+09</th>\n",
       "      <td>1</td>\n",
       "      <td>1</td>\n",
       "      <td>1</td>\n",
       "      <td>1</td>\n",
       "      <td>0</td>\n",
       "      <td>1</td>\n",
       "      <td>0</td>\n",
       "      <td>1</td>\n",
       "      <td>0</td>\n",
       "      <td>0</td>\n",
       "      <td>0</td>\n",
       "      <td>0</td>\n",
       "      <td>1</td>\n",
       "      <td>1</td>\n",
       "      <td>0</td>\n",
       "      <td>0</td>\n",
       "      <td>1</td>\n",
       "      <td>0.366683</td>\n",
       "      <td>0</td>\n",
       "    </tr>\n",
       "  </tbody>\n",
       "</table>\n",
       "</div>"
      ],
      "text/plain": [
       "              FIRST_WEB_LOGIN_DATE  ZIP_CD  hra_completion_date  \\\n",
       "ENTITY                                                            \n",
       "1.400067e+09                     1       1                    0   \n",
       "1.400078e+09                     1       1                    0   \n",
       "1.400081e+09                     1       1                    1   \n",
       "1.400100e+09                     1       1                    1   \n",
       "1.400104e+09                     1       1                    1   \n",
       "\n",
       "              FIRST_APP_LOGIN_DATE  earned_status_adj_Bronze  partner_name  \\\n",
       "ENTITY                                                                       \n",
       "1.400067e+09                     0                         1             0   \n",
       "1.400078e+09                     0                         1             0   \n",
       "1.400081e+09                     1                         0             1   \n",
       "1.400100e+09                     0                         0             0   \n",
       "1.400104e+09                     1                         0             1   \n",
       "\n",
       "              AGE_35-49  AGE_50-64  vc_completion_date  AGE_19-34  \\\n",
       "ENTITY                                                              \n",
       "1.400067e+09          1          0                   0          0   \n",
       "1.400078e+09          1          0                   0          0   \n",
       "1.400081e+09          0          1                   1          0   \n",
       "1.400100e+09          1          0                   1          0   \n",
       "1.400104e+09          0          1                   0          0   \n",
       "\n",
       "              earned_status_adj_Silver  earned_status_adj_Gold  CONTACT  \\\n",
       "ENTITY                                                                    \n",
       "1.400067e+09                         0                       0        0   \n",
       "1.400078e+09                         0                       0        1   \n",
       "1.400081e+09                         0                       0        0   \n",
       "1.400100e+09                         1                       0        1   \n",
       "1.400104e+09                         0                       0        1   \n",
       "\n",
       "              earned_status_adj_Platinum  eventdesc  AGE_65-80  BASE  \\\n",
       "ENTITY                                                                 \n",
       "1.400067e+09                           0          0          0     0   \n",
       "1.400078e+09                           0          0          0     0   \n",
       "1.400081e+09                           1          0          0     1   \n",
       "1.400100e+09                           0          0          0     1   \n",
       "1.400104e+09                           1          0          0     1   \n",
       "\n",
       "                  PRED  OUTCOME  \n",
       "ENTITY                           \n",
       "1.400067e+09  0.021655        0  \n",
       "1.400078e+09  0.021655        0  \n",
       "1.400081e+09  0.422718        0  \n",
       "1.400100e+09  0.113295        0  \n",
       "1.400104e+09  0.366683        0  "
      ]
     },
     "execution_count": 172,
     "metadata": {},
     "output_type": "execute_result"
    }
   ],
   "source": [
    "mydata.head()"
   ]
  },
  {
   "cell_type": "code",
   "execution_count": 12,
   "metadata": {},
   "outputs": [],
   "source": [
    "mydata = mydata[mydata.sum().sort_values(ascending = False).index] "
   ]
  },
  {
   "cell_type": "code",
   "execution_count": null,
   "metadata": {},
   "outputs": [],
   "source": []
  },
  {
   "cell_type": "code",
   "execution_count": 13,
   "metadata": {},
   "outputs": [
    {
     "data": {
      "image/png": "[encoded data removed]",
      "text/plain": [
       "<matplotlib.figure.Figure at 0xad07fd0>"
      ]
     },
     "metadata": {},
     "output_type": "display_data"
    }
   ],
   "source": [
    "ax = (mydata == 1).sum(axis=0).plot.bar() "
   ]
  },
  {
   "cell_type": "code",
   "execution_count": 14,
   "metadata": {},
   "outputs": [],
   "source": [
    "mydata.drop(['COVERAGE_EFF_DATE'], axis=1, inplace=True)\n"
   ]
  },
  {
   "cell_type": "code",
   "execution_count": 15,
   "metadata": {},
   "outputs": [
    {
     "data": {
      "text/html": [
       "<div>\n",
       "<style scoped>\n",
       "    .dataframe tbody tr th:only-of-type {\n",
       "        vertical-align: middle;\n",
       "    }\n",
       "\n",
       "    .dataframe tbody tr th {\n",
       "        vertical-align: top;\n",
       "    }\n",
       "\n",
       "    .dataframe thead th {\n",
       "        text-align: right;\n",
       "    }\n",
       "</style>\n",
       "<table border=\"1\" class=\"dataframe\">\n",
       "  <thead>\n",
       "    <tr style=\"text-align: right;\">\n",
       "      <th></th>\n",
       "      <th>FIRST_WEB_LOGIN_DATE</th>\n",
       "      <th>ZIP_CD</th>\n",
       "      <th>hra_completion_date</th>\n",
       "      <th>FIRST_APP_LOGIN_DATE</th>\n",
       "      <th>earned_status_adj_Bronze</th>\n",
       "      <th>partner_name</th>\n",
       "      <th>AGE_35-49</th>\n",
       "      <th>AGE_50-64</th>\n",
       "      <th>vc_completion_date</th>\n",
       "      <th>AGE_19-34</th>\n",
       "      <th>earned_status_adj_Silver</th>\n",
       "      <th>earned_status_adj_Gold</th>\n",
       "      <th>CONTACT</th>\n",
       "      <th>earned_status_adj_Platinum</th>\n",
       "      <th>eventdesc</th>\n",
       "      <th>AGE_65-80</th>\n",
       "    </tr>\n",
       "  </thead>\n",
       "  <tbody>\n",
       "    <tr>\n",
       "      <th>0</th>\n",
       "      <td>0</td>\n",
       "      <td>0</td>\n",
       "      <td>0</td>\n",
       "      <td>0</td>\n",
       "      <td>0.0</td>\n",
       "      <td>0</td>\n",
       "      <td>0.0</td>\n",
       "      <td>0.0</td>\n",
       "      <td>0</td>\n",
       "      <td>0.0</td>\n",
       "      <td>0.0</td>\n",
       "      <td>0.0</td>\n",
       "      <td>0</td>\n",
       "      <td>0.0</td>\n",
       "      <td>0</td>\n",
       "      <td>0.0</td>\n",
       "    </tr>\n",
       "    <tr>\n",
       "      <th>1</th>\n",
       "      <td>0</td>\n",
       "      <td>0</td>\n",
       "      <td>0</td>\n",
       "      <td>0</td>\n",
       "      <td>0.0</td>\n",
       "      <td>15389</td>\n",
       "      <td>0.0</td>\n",
       "      <td>0.0</td>\n",
       "      <td>0</td>\n",
       "      <td>0.0</td>\n",
       "      <td>0.0</td>\n",
       "      <td>0.0</td>\n",
       "      <td>0</td>\n",
       "      <td>0.0</td>\n",
       "      <td>623</td>\n",
       "      <td>0.0</td>\n",
       "    </tr>\n",
       "    <tr>\n",
       "      <th>2</th>\n",
       "      <td>15</td>\n",
       "      <td>0</td>\n",
       "      <td>0</td>\n",
       "      <td>0</td>\n",
       "      <td>10.0</td>\n",
       "      <td>3899</td>\n",
       "      <td>4.0</td>\n",
       "      <td>1.0</td>\n",
       "      <td>0</td>\n",
       "      <td>0.0</td>\n",
       "      <td>0.0</td>\n",
       "      <td>0.0</td>\n",
       "      <td>3696</td>\n",
       "      <td>0.0</td>\n",
       "      <td>221</td>\n",
       "      <td>0.0</td>\n",
       "    </tr>\n",
       "    <tr>\n",
       "      <th>3</th>\n",
       "      <td>13418</td>\n",
       "      <td>5383</td>\n",
       "      <td>0</td>\n",
       "      <td>9</td>\n",
       "      <td>13279.0</td>\n",
       "      <td>126</td>\n",
       "      <td>3683.0</td>\n",
       "      <td>1707.0</td>\n",
       "      <td>0</td>\n",
       "      <td>2583.0</td>\n",
       "      <td>72.0</td>\n",
       "      <td>8.0</td>\n",
       "      <td>126</td>\n",
       "      <td>0.0</td>\n",
       "      <td>126</td>\n",
       "      <td>121.0</td>\n",
       "    </tr>\n",
       "    <tr>\n",
       "      <th>4</th>\n",
       "      <td>124548</td>\n",
       "      <td>120219</td>\n",
       "      <td>1346</td>\n",
       "      <td>2065</td>\n",
       "      <td>119527.0</td>\n",
       "      <td>783</td>\n",
       "      <td>48054.0</td>\n",
       "      <td>45095.0</td>\n",
       "      <td>147</td>\n",
       "      <td>26091.0</td>\n",
       "      <td>4033.0</td>\n",
       "      <td>928.0</td>\n",
       "      <td>170</td>\n",
       "      <td>97.0</td>\n",
       "      <td>9</td>\n",
       "      <td>5308.0</td>\n",
       "    </tr>\n",
       "    <tr>\n",
       "      <th>5</th>\n",
       "      <td>87873</td>\n",
       "      <td>83734</td>\n",
       "      <td>42412</td>\n",
       "      <td>28054</td>\n",
       "      <td>66265.0</td>\n",
       "      <td>9866</td>\n",
       "      <td>34484.0</td>\n",
       "      <td>28597.0</td>\n",
       "      <td>7954</td>\n",
       "      <td>21930.0</td>\n",
       "      <td>16037.0</td>\n",
       "      <td>4198.0</td>\n",
       "      <td>3353</td>\n",
       "      <td>1369.0</td>\n",
       "      <td>421</td>\n",
       "      <td>2843.0</td>\n",
       "    </tr>\n",
       "    <tr>\n",
       "      <th>6</th>\n",
       "      <td>80067</td>\n",
       "      <td>76273</td>\n",
       "      <td>58594</td>\n",
       "      <td>40866</td>\n",
       "      <td>31131.0</td>\n",
       "      <td>30816</td>\n",
       "      <td>31865.0</td>\n",
       "      <td>25454.0</td>\n",
       "      <td>26484</td>\n",
       "      <td>20271.0</td>\n",
       "      <td>32580.0</td>\n",
       "      <td>11529.0</td>\n",
       "      <td>5943</td>\n",
       "      <td>4820.0</td>\n",
       "      <td>1258</td>\n",
       "      <td>2451.0</td>\n",
       "    </tr>\n",
       "    <tr>\n",
       "      <th>7</th>\n",
       "      <td>90895</td>\n",
       "      <td>88306</td>\n",
       "      <td>85870</td>\n",
       "      <td>73954</td>\n",
       "      <td>17017.0</td>\n",
       "      <td>71643</td>\n",
       "      <td>37603.0</td>\n",
       "      <td>24329.0</td>\n",
       "      <td>28523</td>\n",
       "      <td>27135.0</td>\n",
       "      <td>36861.0</td>\n",
       "      <td>23900.0</td>\n",
       "      <td>11459</td>\n",
       "      <td>13113.0</td>\n",
       "      <td>3832</td>\n",
       "      <td>1825.0</td>\n",
       "    </tr>\n",
       "    <tr>\n",
       "      <th>8</th>\n",
       "      <td>78987</td>\n",
       "      <td>77981</td>\n",
       "      <td>78211</td>\n",
       "      <td>75069</td>\n",
       "      <td>3808.0</td>\n",
       "      <td>75384</td>\n",
       "      <td>33367.0</td>\n",
       "      <td>20866.0</td>\n",
       "      <td>56232</td>\n",
       "      <td>23342.0</td>\n",
       "      <td>18529.0</td>\n",
       "      <td>29378.0</td>\n",
       "      <td>21202</td>\n",
       "      <td>27269.0</td>\n",
       "      <td>10863</td>\n",
       "      <td>1408.0</td>\n",
       "    </tr>\n",
       "    <tr>\n",
       "      <th>9</th>\n",
       "      <td>33641</td>\n",
       "      <td>33482</td>\n",
       "      <td>33603</td>\n",
       "      <td>33357</td>\n",
       "      <td>578.0</td>\n",
       "      <td>33463</td>\n",
       "      <td>14152.0</td>\n",
       "      <td>10051.0</td>\n",
       "      <td>28738</td>\n",
       "      <td>8704.0</td>\n",
       "      <td>4419.0</td>\n",
       "      <td>11419.0</td>\n",
       "      <td>25705</td>\n",
       "      <td>17225.0</td>\n",
       "      <td>13498</td>\n",
       "      <td>734.0</td>\n",
       "    </tr>\n",
       "    <tr>\n",
       "      <th>10</th>\n",
       "      <td>6552</td>\n",
       "      <td>6552</td>\n",
       "      <td>6552</td>\n",
       "      <td>6552</td>\n",
       "      <td>0.0</td>\n",
       "      <td>6552</td>\n",
       "      <td>2727.0</td>\n",
       "      <td>2070.0</td>\n",
       "      <td>6552</td>\n",
       "      <td>1566.0</td>\n",
       "      <td>338.0</td>\n",
       "      <td>1870.0</td>\n",
       "      <td>6552</td>\n",
       "      <td>4344.0</td>\n",
       "      <td>6552</td>\n",
       "      <td>189.0</td>\n",
       "    </tr>\n",
       "  </tbody>\n",
       "</table>\n",
       "</div>"
      ],
      "text/plain": [
       "    FIRST_WEB_LOGIN_DATE  ZIP_CD  hra_completion_date  FIRST_APP_LOGIN_DATE  \\\n",
       "0                      0       0                    0                     0   \n",
       "1                      0       0                    0                     0   \n",
       "2                     15       0                    0                     0   \n",
       "3                  13418    5383                    0                     9   \n",
       "4                 124548  120219                 1346                  2065   \n",
       "5                  87873   83734                42412                 28054   \n",
       "6                  80067   76273                58594                 40866   \n",
       "7                  90895   88306                85870                 73954   \n",
       "8                  78987   77981                78211                 75069   \n",
       "9                  33641   33482                33603                 33357   \n",
       "10                  6552    6552                 6552                  6552   \n",
       "\n",
       "    earned_status_adj_Bronze  partner_name  AGE_35-49  AGE_50-64  \\\n",
       "0                        0.0             0        0.0        0.0   \n",
       "1                        0.0         15389        0.0        0.0   \n",
       "2                       10.0          3899        4.0        1.0   \n",
       "3                    13279.0           126     3683.0     1707.0   \n",
       "4                   119527.0           783    48054.0    45095.0   \n",
       "5                    66265.0          9866    34484.0    28597.0   \n",
       "6                    31131.0         30816    31865.0    25454.0   \n",
       "7                    17017.0         71643    37603.0    24329.0   \n",
       "8                     3808.0         75384    33367.0    20866.0   \n",
       "9                      578.0         33463    14152.0    10051.0   \n",
       "10                       0.0          6552     2727.0     2070.0   \n",
       "\n",
       "    vc_completion_date  AGE_19-34  earned_status_adj_Silver  \\\n",
       "0                    0        0.0                       0.0   \n",
       "1                    0        0.0                       0.0   \n",
       "2                    0        0.0                       0.0   \n",
       "3                    0     2583.0                      72.0   \n",
       "4                  147    26091.0                    4033.0   \n",
       "5                 7954    21930.0                   16037.0   \n",
       "6                26484    20271.0                   32580.0   \n",
       "7                28523    27135.0                   36861.0   \n",
       "8                56232    23342.0                   18529.0   \n",
       "9                28738     8704.0                    4419.0   \n",
       "10                6552     1566.0                     338.0   \n",
       "\n",
       "    earned_status_adj_Gold  CONTACT  earned_status_adj_Platinum  eventdesc  \\\n",
       "0                      0.0        0                         0.0          0   \n",
       "1                      0.0        0                         0.0        623   \n",
       "2                      0.0     3696                         0.0        221   \n",
       "3                      8.0      126                         0.0        126   \n",
       "4                    928.0      170                        97.0          9   \n",
       "5                   4198.0     3353                      1369.0        421   \n",
       "6                  11529.0     5943                      4820.0       1258   \n",
       "7                  23900.0    11459                     13113.0       3832   \n",
       "8                  29378.0    21202                     27269.0      10863   \n",
       "9                  11419.0    25705                     17225.0      13498   \n",
       "10                  1870.0     6552                      4344.0       6552   \n",
       "\n",
       "    AGE_65-80  \n",
       "0         0.0  \n",
       "1         0.0  \n",
       "2         0.0  \n",
       "3       121.0  \n",
       "4      5308.0  \n",
       "5      2843.0  \n",
       "6      2451.0  \n",
       "7      1825.0  \n",
       "8      1408.0  \n",
       "9       734.0  \n",
       "10      189.0  "
      ]
     },
     "execution_count": 15,
     "metadata": {},
     "output_type": "execute_result"
    }
   ],
   "source": [
    "mydata.groupby(mydata.sum(axis=1)).agg(sum)"
   ]
  },
  {
   "cell_type": "code",
   "execution_count": 16,
   "metadata": {},
   "outputs": [
    {
     "data": {
      "image/png": "[encoded data removed]",
      "text/plain": [
       "<matplotlib.figure.Figure at 0x11d59c50>"
      ]
     },
     "metadata": {},
     "output_type": "display_data"
    }
   ],
   "source": [
    "ax = mydata.groupby(mydata.sum(axis=1)).agg(sum).plot.bar(figsize=(8,8))"
   ]
  },
  {
   "cell_type": "code",
   "execution_count": 21,
   "metadata": {},
   "outputs": [],
   "source": [
    "#baseline\n",
    "mydata.loc[:,  'BASE'] = np.where((mydata == 1).sum(axis=1) > 5, 1, 0)\n"
   ]
  },
  {
   "cell_type": "code",
   "execution_count": 22,
   "metadata": {},
   "outputs": [
    {
     "data": {
      "text/plain": [
       "0.6501726891028863"
      ]
     },
     "execution_count": 22,
     "metadata": {},
     "output_type": "execute_result"
    }
   ],
   "source": [
    "np.sqrt(metrics.mean_squared_error(mydata.loc[:, 'CONTACT'], mydata.loc[:, 'BASE']))"
   ]
  },
  {
   "cell_type": "code",
   "execution_count": 161,
   "metadata": {},
   "outputs": [
    {
     "data": {
      "text/plain": [
       "array([[<matplotlib.axes._subplots.AxesSubplot object at 0x000000002D2C7DA0>,\n",
       "        <matplotlib.axes._subplots.AxesSubplot object at 0x00000000323CAA58>,\n",
       "        <matplotlib.axes._subplots.AxesSubplot object at 0x00000000361A3438>,\n",
       "        <matplotlib.axes._subplots.AxesSubplot object at 0x0000000031E8D438>],\n",
       "       [<matplotlib.axes._subplots.AxesSubplot object at 0x0000000031EC7E48>,\n",
       "        <matplotlib.axes._subplots.AxesSubplot object at 0x0000000034C9B4A8>,\n",
       "        <matplotlib.axes._subplots.AxesSubplot object at 0x0000000030BBC3C8>,\n",
       "        <matplotlib.axes._subplots.AxesSubplot object at 0x0000000030BCB160>],\n",
       "       [<matplotlib.axes._subplots.AxesSubplot object at 0x00000000321F43C8>,\n",
       "        <matplotlib.axes._subplots.AxesSubplot object at 0x0000000036284C88>,\n",
       "        <matplotlib.axes._subplots.AxesSubplot object at 0x0000000036352B38>,\n",
       "        <matplotlib.axes._subplots.AxesSubplot object at 0x0000000036378358>],\n",
       "       [<matplotlib.axes._subplots.AxesSubplot object at 0x000000003645F198>,\n",
       "        <matplotlib.axes._subplots.AxesSubplot object at 0x00000000364E0B38>,\n",
       "        <matplotlib.axes._subplots.AxesSubplot object at 0x00000000365F7438>,\n",
       "        <matplotlib.axes._subplots.AxesSubplot object at 0x0000000036686198>]],\n",
       "      dtype=object)"
      ]
     },
     "execution_count": 161,
     "metadata": {},
     "output_type": "execute_result"
    },
    {
     "data": {
      "image/png": "[encoded data removed]",
      "text/plain": [
       "<matplotlib.figure.Figure at 0x2d2c7860>"
      ]
     },
     "metadata": {},
     "output_type": "display_data"
    }
   ],
   "source": [
    "mychartdata.boxplot(by='CONTACT', figsize=(8,8))"
   ]
  },
  {
   "cell_type": "code",
   "execution_count": 219,
   "metadata": {},
   "outputs": [
    {
     "ename": "AttributeError",
     "evalue": "'AxesSubplot' object has no attribute 'groupby'",
     "output_type": "error",
     "traceback": [
      "\u001b[1;31m\u001b[0m",
      "\u001b[1;31mAttributeError\u001b[0mTraceback (most recent call last)",
      "\u001b[1;32m<ipython-input-219-c34655c029f9>\u001b[0m in \u001b[0;36m<module>\u001b[1;34m()\u001b[0m\n\u001b[1;32m----> 1\u001b[1;33m \u001b[0msns\u001b[0m\u001b[1;33m.\u001b[0m\u001b[0mbarplot\u001b[0m\u001b[1;33m(\u001b[0m\u001b[0mmychartdata\u001b[0m\u001b[1;33m.\u001b[0m\u001b[0mloc\u001b[0m\u001b[1;33m[\u001b[0m\u001b[1;33m:\u001b[0m\u001b[1;33m,\u001b[0m \u001b[1;34m'CONTACT'\u001b[0m\u001b[1;33m]\u001b[0m\u001b[1;33m==\u001b[0m\u001b[1;36m1\u001b[0m\u001b[1;33m)\u001b[0m\u001b[1;33m.\u001b[0m\u001b[0mgroupby\u001b[0m\u001b[1;33m(\u001b[0m\u001b[1;34m'CONTACT'\u001b[0m\u001b[1;33m)\u001b[0m\u001b[1;33m.\u001b[0m\u001b[0magg\u001b[0m\u001b[1;33m(\u001b[0m\u001b[0msum\u001b[0m\u001b[1;33m)\u001b[0m\u001b[1;33m\u001b[0m\u001b[0m\n\u001b[0m",
      "\u001b[1;31mAttributeError\u001b[0m: 'AxesSubplot' object has no attribute 'groupby'"
     ]
    },
    {
     "data": {
      "image/png": "[encoded data removed]",
      "text/plain": [
       "<matplotlib.figure.Figure at 0xffab4e0>"
      ]
     },
     "metadata": {},
     "output_type": "display_data"
    }
   ],
   "source": []
  },
  {
   "cell_type": "code",
   "execution_count": 244,
   "metadata": {},
   "outputs": [
    {
     "data": {
      "text/plain": [
       "<matplotlib.axes._subplots.AxesSubplot at 0x3a0d0908>"
      ]
     },
     "execution_count": 244,
     "metadata": {},
     "output_type": "execute_result"
    },
    {
     "data": {
      "image/png": "[encoded data removed]",
      "text/plain": [
       "<matplotlib.figure.Figure at 0x40d97a20>"
      ]
     },
     "metadata": {},
     "output_type": "display_data"
    }
   ],
   "source": [
    "sns.distplot(mychartdata[mychartdata.loc[:, 'CONTACT']==1].groupby('CONTACT').agg(sum))"
   ]
  },
  {
   "cell_type": "code",
   "execution_count": 234,
   "metadata": {},
   "outputs": [
    {
     "data": {
      "image/png": "[encoded data removed]",
      "text/plain": [
       "<matplotlib.figure.Figure at 0xff89898>"
      ]
     },
     "metadata": {},
     "output_type": "display_data"
    }
   ],
   "source": [
    "#mychartdata = mychartdata.drop(['OUTCOME', 'ZIP_CD'], axis=1)\n",
    "ax=mychartdata[mychartdata.loc[:, 'CONTACT']==1].groupby('CONTACT').agg(sum).plot.bar(figsize=(9,7), alpha=0.2)"
   ]
  },
  {
   "cell_type": "code",
   "execution_count": null,
   "metadata": {},
   "outputs": [],
   "source": [
    "dims = (10, 10)\n",
    "fig, ax = plt.subplots(figsize=dims)\n",
    "plt.title(\"Feature Names\")\n",
    "g = sns.barplot(ax=ax, x=feature_cols, y=treeclf.feature_importances_).set_xticklabels(rotation=90,labels=feature_cols)"
   ]
  },
  {
   "cell_type": "code",
   "execution_count": 192,
   "metadata": {
    "scrolled": true
   },
   "outputs": [
    {
     "data": {
      "image/png": "[encoded data removed]",
      "text/plain": [
       "<matplotlib.figure.Figure at 0x30ea2160>"
      ]
     },
     "metadata": {},
     "output_type": "display_data"
    }
   ],
   "source": [
    "corr = mychartdata.corr()\n",
    "f, ax = plt.subplots(figsize=(10, 8))\n",
    "g = sns.heatmap(corr, mask=np.zeros_like(corr, dtype=np.bool), cmap=sns.diverging_palette(220, 10, as_cmap='PRED'),\n",
    "            square=True, ax=ax)"
   ]
  },
  {
   "cell_type": "code",
   "execution_count": 25,
   "metadata": {},
   "outputs": [],
   "source": [
    "feature_cols = [i for i in mydata if ('CONTACT' not in i and 'pred' not in i and 'BASE' not in i)]\n",
    "X = mydata.loc[:, feature_cols]\n",
    "y = mydata.loc[:, 'CONTACT']"
   ]
  },
  {
   "cell_type": "code",
   "execution_count": 27,
   "metadata": {},
   "outputs": [
    {
     "data": {
      "text/plain": [
       "DecisionTreeClassifier(class_weight=None, criterion='gini', max_depth=3,\n",
       "            max_features=None, max_leaf_nodes=None,\n",
       "            min_impurity_decrease=0.0, min_impurity_split=None,\n",
       "            min_samples_leaf=1, min_samples_split=2,\n",
       "            min_weight_fraction_leaf=0.0, presort=False, random_state=1,\n",
       "            splitter='best')"
      ]
     },
     "execution_count": 27,
     "metadata": {},
     "output_type": "execute_result"
    }
   ],
   "source": [
    "X = mydata.loc[:, feature_cols]\n",
    "y = mydata.loc[:, 'CONTACT']\n",
    "\n",
    "treeclf = DecisionTreeClassifier(max_depth=3, random_state=1)\n",
    "treeclf.fit(X, y)"
   ]
  },
  {
   "cell_type": "code",
   "execution_count": 85,
   "metadata": {},
   "outputs": [
    {
     "data": {
      "text/html": [
       "<div>\n",
       "<style scoped>\n",
       "    .dataframe tbody tr th:only-of-type {\n",
       "        vertical-align: middle;\n",
       "    }\n",
       "\n",
       "    .dataframe tbody tr th {\n",
       "        vertical-align: top;\n",
       "    }\n",
       "\n",
       "    .dataframe thead th {\n",
       "        text-align: right;\n",
       "    }\n",
       "</style>\n",
       "<table border=\"1\" class=\"dataframe\">\n",
       "  <thead>\n",
       "    <tr style=\"text-align: right;\">\n",
       "      <th></th>\n",
       "      <th>feature</th>\n",
       "      <th>importance</th>\n",
       "    </tr>\n",
       "  </thead>\n",
       "  <tbody>\n",
       "    <tr>\n",
       "      <th>0</th>\n",
       "      <td>FIRST_WEB_LOGIN_DATE</td>\n",
       "      <td>0.000000</td>\n",
       "    </tr>\n",
       "    <tr>\n",
       "      <th>1</th>\n",
       "      <td>ZIP_CD</td>\n",
       "      <td>0.000000</td>\n",
       "    </tr>\n",
       "    <tr>\n",
       "      <th>2</th>\n",
       "      <td>hra_completion_date</td>\n",
       "      <td>0.026397</td>\n",
       "    </tr>\n",
       "    <tr>\n",
       "      <th>3</th>\n",
       "      <td>FIRST_APP_LOGIN_DATE</td>\n",
       "      <td>0.000000</td>\n",
       "    </tr>\n",
       "    <tr>\n",
       "      <th>4</th>\n",
       "      <td>earned_status_adj_Bronze</td>\n",
       "      <td>0.073158</td>\n",
       "    </tr>\n",
       "    <tr>\n",
       "      <th>5</th>\n",
       "      <td>partner_name</td>\n",
       "      <td>0.643184</td>\n",
       "    </tr>\n",
       "    <tr>\n",
       "      <th>6</th>\n",
       "      <td>AGE_35-49</td>\n",
       "      <td>0.000000</td>\n",
       "    </tr>\n",
       "    <tr>\n",
       "      <th>7</th>\n",
       "      <td>AGE_50-64</td>\n",
       "      <td>0.000000</td>\n",
       "    </tr>\n",
       "    <tr>\n",
       "      <th>8</th>\n",
       "      <td>vc_completion_date</td>\n",
       "      <td>0.000000</td>\n",
       "    </tr>\n",
       "    <tr>\n",
       "      <th>9</th>\n",
       "      <td>AGE_19-34</td>\n",
       "      <td>0.000000</td>\n",
       "    </tr>\n",
       "    <tr>\n",
       "      <th>10</th>\n",
       "      <td>earned_status_adj_Silver</td>\n",
       "      <td>0.000000</td>\n",
       "    </tr>\n",
       "    <tr>\n",
       "      <th>11</th>\n",
       "      <td>earned_status_adj_Gold</td>\n",
       "      <td>0.000000</td>\n",
       "    </tr>\n",
       "    <tr>\n",
       "      <th>12</th>\n",
       "      <td>earned_status_adj_Platinum</td>\n",
       "      <td>0.163869</td>\n",
       "    </tr>\n",
       "    <tr>\n",
       "      <th>13</th>\n",
       "      <td>eventdesc</td>\n",
       "      <td>0.093393</td>\n",
       "    </tr>\n",
       "    <tr>\n",
       "      <th>14</th>\n",
       "      <td>AGE_65-80</td>\n",
       "      <td>0.000000</td>\n",
       "    </tr>\n",
       "  </tbody>\n",
       "</table>\n",
       "</div>"
      ],
      "text/plain": [
       "                       feature  importance\n",
       "0         FIRST_WEB_LOGIN_DATE    0.000000\n",
       "1                       ZIP_CD    0.000000\n",
       "2          hra_completion_date    0.026397\n",
       "3         FIRST_APP_LOGIN_DATE    0.000000\n",
       "4     earned_status_adj_Bronze    0.073158\n",
       "5                 partner_name    0.643184\n",
       "6                    AGE_35-49    0.000000\n",
       "7                    AGE_50-64    0.000000\n",
       "8           vc_completion_date    0.000000\n",
       "9                    AGE_19-34    0.000000\n",
       "10    earned_status_adj_Silver    0.000000\n",
       "11      earned_status_adj_Gold    0.000000\n",
       "12  earned_status_adj_Platinum    0.163869\n",
       "13                   eventdesc    0.093393\n",
       "14                   AGE_65-80    0.000000"
      ]
     },
     "execution_count": 85,
     "metadata": {},
     "output_type": "execute_result"
    }
   ],
   "source": [
    "pd.DataFrame({'feature':feature_cols, 'importance':treeclf.feature_importances_})"
   ]
  },
  {
   "cell_type": "code",
   "execution_count": 94,
   "metadata": {},
   "outputs": [
    {
     "data": {
      "text/plain": [
       "0.3303639497783338"
      ]
     },
     "execution_count": 94,
     "metadata": {},
     "output_type": "execute_result"
    }
   ],
   "source": [
    "myreg = DecisionTreeRegressor()\n",
    "myreg.fit(X, y)\n",
    "y_pred = myreg.predict(X)\n",
    "\n",
    "np.sqrt(metrics.mean_squared_error(y, y_pred))"
   ]
  },
  {
   "cell_type": "code",
   "execution_count": 30,
   "metadata": {},
   "outputs": [
    {
     "data": {
      "text/plain": [
       "array([0.0216545 , 0.0216545 , 0.42271838, ..., 0.19327951, 0.19327951,\n",
       "       0.19327951])"
      ]
     },
     "execution_count": 30,
     "metadata": {},
     "output_type": "execute_result"
    }
   ],
   "source": [
    "X_test = mydata.loc[:, feature_cols]\n",
    "y_test = mydata.loc[:, 'CONTACT']\n",
    "y_pred = myreg.predict(X_test)\n",
    "\n",
    "y_pred"
   ]
  },
  {
   "cell_type": "code",
   "execution_count": 31,
   "metadata": {},
   "outputs": [
    {
     "data": {
      "text/plain": [
       "0.3303639497783338"
      ]
     },
     "execution_count": 31,
     "metadata": {},
     "output_type": "execute_result"
    }
   ],
   "source": [
    "np.sqrt(metrics.mean_squared_error(y_test, y_pred))"
   ]
  },
  {
   "cell_type": "code",
   "execution_count": 108,
   "metadata": {},
   "outputs": [],
   "source": [
    "X_train, X_test, y_train, y_test = train_test_split(X, y, random_state = 89)"
   ]
  },
  {
   "cell_type": "code",
   "execution_count": 109,
   "metadata": {},
   "outputs": [
    {
     "data": {
      "text/plain": [
       "RandomForestRegressor(bootstrap=True, criterion='mse', max_depth=None,\n",
       "           max_features=8, max_leaf_nodes=None, min_impurity_decrease=0.0,\n",
       "           min_impurity_split=None, min_samples_leaf=1,\n",
       "           min_samples_split=2, min_weight_fraction_leaf=0.0,\n",
       "           n_estimators=150, n_jobs=1, oob_score=True, random_state=1,\n",
       "           verbose=0, warm_start=False)"
      ]
     },
     "execution_count": 109,
     "metadata": {},
     "output_type": "execute_result"
    }
   ],
   "source": [
    "rfreg = RandomForestRegressor(n_estimators=150, max_features=8, oob_score=True, random_state=1)\n",
    "rfreg.fit(X_train, y_train)"
   ]
  },
  {
   "cell_type": "code",
   "execution_count": 110,
   "metadata": {},
   "outputs": [
    {
     "name": "stdout",
     "output_type": "stream",
     "text": [
      "(402081L, 5L)\n",
      "(402081L, 8L)\n"
     ]
    }
   ],
   "source": [
    "print(SelectFromModel(rfreg, threshold='mean', prefit=True).transform(X_train).shape)\n",
    "print(SelectFromModel(rfreg, threshold='median', prefit=True).transform(X_train).shape)"
   ]
  },
  {
   "cell_type": "code",
   "execution_count": 111,
   "metadata": {},
   "outputs": [
    {
     "data": {
      "text/plain": [
       "0.3333360553714874"
      ]
     },
     "execution_count": 111,
     "metadata": {},
     "output_type": "execute_result"
    }
   ],
   "source": [
    "X_important =  SelectFromModel(rfreg, threshold='mean', prefit=True).transform(X_test)\n",
    "rfreg = RandomForestRegressor(n_estimators=150, max_features=3, random_state=1)\n",
    "\n",
    "scores = cross_val_score(rfreg, X_important, y_test, cv=10, scoring='neg_mean_squared_error')\n",
    "np.mean(np.sqrt(-scores))\n",
    "\n",
    "#lower -- let's say better"
   ]
  },
  {
   "cell_type": "code",
   "execution_count": 92,
   "metadata": {},
   "outputs": [
    {
     "data": {
      "text/plain": [
       "RandomForestRegressor(bootstrap=True, criterion='mse', max_depth=None,\n",
       "           max_features=3, max_leaf_nodes=None, min_impurity_decrease=0.0,\n",
       "           min_impurity_split=None, min_samples_leaf=1,\n",
       "           min_samples_split=2, min_weight_fraction_leaf=0.0,\n",
       "           n_estimators=150, n_jobs=1, oob_score=False, random_state=1,\n",
       "           verbose=0, warm_start=False)"
      ]
     },
     "execution_count": 92,
     "metadata": {},
     "output_type": "execute_result"
    }
   ],
   "source": []
  },
  {
   "cell_type": "code",
   "execution_count": 44,
   "metadata": {},
   "outputs": [
    {
     "data": {
      "text/plain": [
       "array([0.0216545 , 0.0216545 , 0.42271838, ..., 0.19327951, 0.19327951,\n",
       "       0.19327951])"
      ]
     },
     "execution_count": 44,
     "metadata": {},
     "output_type": "execute_result"
    }
   ],
   "source": [
    "y_pred"
   ]
  },
  {
   "cell_type": "code",
   "execution_count": 113,
   "metadata": {},
   "outputs": [],
   "source": [
    "mydata.loc[:, 'PRED'] = y_pred"
   ]
  },
  {
   "cell_type": "code",
   "execution_count": 114,
   "metadata": {},
   "outputs": [],
   "source": [
    "f = mydata.loc[mydata.loc[:, 'PRED'] > .49, :]"
   ]
  },
  {
   "cell_type": "code",
   "execution_count": 115,
   "metadata": {},
   "outputs": [],
   "source": [
    "mydata.loc[:, 'OUTCOME'] = np.where(mydata.loc[:, 'PRED']>=0.5, 1, 0)"
   ]
  },
  {
   "cell_type": "code",
   "execution_count": 116,
   "metadata": {
    "scrolled": true
   },
   "outputs": [
    {
     "data": {
      "text/html": [
       "<div>\n",
       "<style scoped>\n",
       "    .dataframe tbody tr th:only-of-type {\n",
       "        vertical-align: middle;\n",
       "    }\n",
       "\n",
       "    .dataframe tbody tr th {\n",
       "        vertical-align: top;\n",
       "    }\n",
       "\n",
       "    .dataframe thead th {\n",
       "        text-align: right;\n",
       "    }\n",
       "</style>\n",
       "<table border=\"1\" class=\"dataframe\">\n",
       "  <thead>\n",
       "    <tr style=\"text-align: right;\">\n",
       "      <th></th>\n",
       "      <th>FIRST_WEB_LOGIN_DATE</th>\n",
       "      <th>ZIP_CD</th>\n",
       "      <th>hra_completion_date</th>\n",
       "      <th>FIRST_APP_LOGIN_DATE</th>\n",
       "      <th>earned_status_adj_Bronze</th>\n",
       "      <th>partner_name</th>\n",
       "      <th>AGE_35-49</th>\n",
       "      <th>AGE_50-64</th>\n",
       "      <th>vc_completion_date</th>\n",
       "      <th>AGE_19-34</th>\n",
       "      <th>earned_status_adj_Silver</th>\n",
       "      <th>earned_status_adj_Gold</th>\n",
       "      <th>CONTACT</th>\n",
       "      <th>earned_status_adj_Platinum</th>\n",
       "      <th>eventdesc</th>\n",
       "      <th>AGE_65-80</th>\n",
       "      <th>BASE</th>\n",
       "      <th>PRED</th>\n",
       "      <th>OUTCOME</th>\n",
       "    </tr>\n",
       "    <tr>\n",
       "      <th>ENTITY</th>\n",
       "      <th></th>\n",
       "      <th></th>\n",
       "      <th></th>\n",
       "      <th></th>\n",
       "      <th></th>\n",
       "      <th></th>\n",
       "      <th></th>\n",
       "      <th></th>\n",
       "      <th></th>\n",
       "      <th></th>\n",
       "      <th></th>\n",
       "      <th></th>\n",
       "      <th></th>\n",
       "      <th></th>\n",
       "      <th></th>\n",
       "      <th></th>\n",
       "      <th></th>\n",
       "      <th></th>\n",
       "      <th></th>\n",
       "    </tr>\n",
       "  </thead>\n",
       "  <tbody>\n",
       "    <tr>\n",
       "      <th>1.403342e+09</th>\n",
       "      <td>1</td>\n",
       "      <td>1</td>\n",
       "      <td>1</td>\n",
       "      <td>1</td>\n",
       "      <td>0</td>\n",
       "      <td>1</td>\n",
       "      <td>0</td>\n",
       "      <td>1</td>\n",
       "      <td>1</td>\n",
       "      <td>0</td>\n",
       "      <td>0</td>\n",
       "      <td>0</td>\n",
       "      <td>1</td>\n",
       "      <td>1</td>\n",
       "      <td>1</td>\n",
       "      <td>0</td>\n",
       "      <td>1</td>\n",
       "      <td>0.575121</td>\n",
       "      <td>1</td>\n",
       "    </tr>\n",
       "    <tr>\n",
       "      <th>1.403672e+09</th>\n",
       "      <td>1</td>\n",
       "      <td>1</td>\n",
       "      <td>1</td>\n",
       "      <td>1</td>\n",
       "      <td>0</td>\n",
       "      <td>1</td>\n",
       "      <td>0</td>\n",
       "      <td>1</td>\n",
       "      <td>0</td>\n",
       "      <td>0</td>\n",
       "      <td>0</td>\n",
       "      <td>0</td>\n",
       "      <td>1</td>\n",
       "      <td>1</td>\n",
       "      <td>1</td>\n",
       "      <td>0</td>\n",
       "      <td>1</td>\n",
       "      <td>0.510278</td>\n",
       "      <td>1</td>\n",
       "    </tr>\n",
       "    <tr>\n",
       "      <th>1.403672e+09</th>\n",
       "      <td>1</td>\n",
       "      <td>1</td>\n",
       "      <td>1</td>\n",
       "      <td>1</td>\n",
       "      <td>0</td>\n",
       "      <td>1</td>\n",
       "      <td>0</td>\n",
       "      <td>1</td>\n",
       "      <td>1</td>\n",
       "      <td>0</td>\n",
       "      <td>0</td>\n",
       "      <td>0</td>\n",
       "      <td>0</td>\n",
       "      <td>1</td>\n",
       "      <td>1</td>\n",
       "      <td>0</td>\n",
       "      <td>1</td>\n",
       "      <td>0.575121</td>\n",
       "      <td>1</td>\n",
       "    </tr>\n",
       "    <tr>\n",
       "      <th>1.403672e+09</th>\n",
       "      <td>1</td>\n",
       "      <td>1</td>\n",
       "      <td>1</td>\n",
       "      <td>1</td>\n",
       "      <td>0</td>\n",
       "      <td>1</td>\n",
       "      <td>0</td>\n",
       "      <td>1</td>\n",
       "      <td>1</td>\n",
       "      <td>0</td>\n",
       "      <td>0</td>\n",
       "      <td>0</td>\n",
       "      <td>0</td>\n",
       "      <td>1</td>\n",
       "      <td>1</td>\n",
       "      <td>0</td>\n",
       "      <td>1</td>\n",
       "      <td>0.575121</td>\n",
       "      <td>1</td>\n",
       "    </tr>\n",
       "    <tr>\n",
       "      <th>1.403673e+09</th>\n",
       "      <td>1</td>\n",
       "      <td>1</td>\n",
       "      <td>1</td>\n",
       "      <td>1</td>\n",
       "      <td>0</td>\n",
       "      <td>1</td>\n",
       "      <td>0</td>\n",
       "      <td>1</td>\n",
       "      <td>1</td>\n",
       "      <td>0</td>\n",
       "      <td>0</td>\n",
       "      <td>0</td>\n",
       "      <td>0</td>\n",
       "      <td>1</td>\n",
       "      <td>1</td>\n",
       "      <td>0</td>\n",
       "      <td>1</td>\n",
       "      <td>0.575121</td>\n",
       "      <td>1</td>\n",
       "    </tr>\n",
       "  </tbody>\n",
       "</table>\n",
       "</div>"
      ],
      "text/plain": [
       "              FIRST_WEB_LOGIN_DATE  ZIP_CD  hra_completion_date  \\\n",
       "ENTITY                                                            \n",
       "1.403342e+09                     1       1                    1   \n",
       "1.403672e+09                     1       1                    1   \n",
       "1.403672e+09                     1       1                    1   \n",
       "1.403672e+09                     1       1                    1   \n",
       "1.403673e+09                     1       1                    1   \n",
       "\n",
       "              FIRST_APP_LOGIN_DATE  earned_status_adj_Bronze  partner_name  \\\n",
       "ENTITY                                                                       \n",
       "1.403342e+09                     1                         0             1   \n",
       "1.403672e+09                     1                         0             1   \n",
       "1.403672e+09                     1                         0             1   \n",
       "1.403672e+09                     1                         0             1   \n",
       "1.403673e+09                     1                         0             1   \n",
       "\n",
       "              AGE_35-49  AGE_50-64  vc_completion_date  AGE_19-34  \\\n",
       "ENTITY                                                              \n",
       "1.403342e+09          0          1                   1          0   \n",
       "1.403672e+09          0          1                   0          0   \n",
       "1.403672e+09          0          1                   1          0   \n",
       "1.403672e+09          0          1                   1          0   \n",
       "1.403673e+09          0          1                   1          0   \n",
       "\n",
       "              earned_status_adj_Silver  earned_status_adj_Gold  CONTACT  \\\n",
       "ENTITY                                                                    \n",
       "1.403342e+09                         0                       0        1   \n",
       "1.403672e+09                         0                       0        1   \n",
       "1.403672e+09                         0                       0        0   \n",
       "1.403672e+09                         0                       0        0   \n",
       "1.403673e+09                         0                       0        0   \n",
       "\n",
       "              earned_status_adj_Platinum  eventdesc  AGE_65-80  BASE  \\\n",
       "ENTITY                                                                 \n",
       "1.403342e+09                           1          1          0     1   \n",
       "1.403672e+09                           1          1          0     1   \n",
       "1.403672e+09                           1          1          0     1   \n",
       "1.403672e+09                           1          1          0     1   \n",
       "1.403673e+09                           1          1          0     1   \n",
       "\n",
       "                  PRED  OUTCOME  \n",
       "ENTITY                           \n",
       "1.403342e+09  0.575121        1  \n",
       "1.403672e+09  0.510278        1  \n",
       "1.403672e+09  0.575121        1  \n",
       "1.403672e+09  0.575121        1  \n",
       "1.403673e+09  0.575121        1  "
      ]
     },
     "execution_count": 116,
     "metadata": {},
     "output_type": "execute_result"
    }
   ],
   "source": [
    "mydata.loc[mydata.loc[:, 'OUTCOME'] == 1, :].head()"
   ]
  },
  {
   "cell_type": "code",
   "execution_count": 103,
   "metadata": {},
   "outputs": [
    {
     "ename": "NameError",
     "evalue": "name 'accuracy_score' is not defined",
     "output_type": "error",
     "traceback": [
      "\u001b[1;31m\u001b[0m",
      "\u001b[1;31mNameError\u001b[0mTraceback (most recent call last)",
      "\u001b[1;32m<ipython-input-103-3a4bfe1949f5>\u001b[0m in \u001b[0;36m<module>\u001b[1;34m()\u001b[0m\n\u001b[0;32m      1\u001b[0m \u001b[0my_predict\u001b[0m \u001b[1;33m=\u001b[0m \u001b[0mtreeclf\u001b[0m\u001b[1;33m.\u001b[0m\u001b[0mpredict\u001b[0m\u001b[1;33m(\u001b[0m\u001b[0mX_test\u001b[0m\u001b[1;33m)\u001b[0m\u001b[1;33m\u001b[0m\u001b[0m\n\u001b[1;32m----> 2\u001b[1;33m \u001b[0maccuracy_score\u001b[0m\u001b[1;33m(\u001b[0m\u001b[0my_test\u001b[0m\u001b[1;33m,\u001b[0m \u001b[0my_predict\u001b[0m\u001b[1;33m)\u001b[0m\u001b[1;33m\u001b[0m\u001b[0m\n\u001b[0m",
      "\u001b[1;31mNameError\u001b[0m: name 'accuracy_score' is not defined"
     ]
    }
   ],
   "source": [
    "y_predict = treeclf.predict(X_test)\n",
    "accuracy_score(y_test, y_predict)"
   ]
  },
  {
   "cell_type": "code",
   "execution_count": 104,
   "metadata": {},
   "outputs": [
    {
     "data": {
      "image/png": "[encoded data removed]",
      "text/plain": [
       "<matplotlib.figure.Figure at 0x28b5deb8>"
      ]
     },
     "metadata": {},
     "output_type": "display_data"
    }
   ],
   "source": [
    "ax = mydata.plot(kind='scatter', x='OUTCOME', y='PRED', \n",
    "                 c='CONTACT', colormap='viridis')"
   ]
  },
  {
   "cell_type": "code",
   "execution_count": 105,
   "metadata": {},
   "outputs": [
    {
     "data": {
      "text/plain": [
       "<matplotlib.axes._subplots.AxesSubplot at 0x28b58d68>"
      ]
     },
     "execution_count": 105,
     "metadata": {},
     "output_type": "execute_result"
    },
    {
     "data": {
      "image/png": "[encoded data removed]",
      "text/plain": [
       "<matplotlib.figure.Figure at 0x294604e0>"
      ]
     },
     "metadata": {},
     "output_type": "display_data"
    }
   ],
   "source": [
    "sns.violinplot(x='OUTCOME', y='PRED', data=mydata,palette='rainbow')"
   ]
  },
  {
   "cell_type": "code",
   "execution_count": 213,
   "metadata": {},
   "outputs": [
    {
     "data": {
      "image/png": "[encoded data removed]",
      "text/plain": [
       "<matplotlib.figure.Figure at 0x10e6f860>"
      ]
     },
     "metadata": {},
     "output_type": "display_data"
    }
   ],
   "source": [
    "sns.stripplot(x='OUTCOME', y='PRED', data=mydata,palette='rainbow', hue='CONTACT');"
   ]
  },
  {
   "cell_type": "code",
   "execution_count": 112,
   "metadata": {},
   "outputs": [
    {
     "data": {
      "text/plain": [
       "4038"
      ]
     },
     "execution_count": 112,
     "metadata": {},
     "output_type": "execute_result"
    }
   ],
   "source": [
    "mydata.loc[:, 'OUTCOME'].sum()\n"
   ]
  },
  {
   "cell_type": "markdown",
   "metadata": {},
   "source": [
    "![Tree for Final](my_tree.png)"
   ]
  },
  {
   "cell_type": "code",
   "execution_count": 62,
   "metadata": {},
   "outputs": [
    {
     "data": {
      "text/plain": [
       "0"
      ]
     },
     "execution_count": 62,
     "metadata": {},
     "output_type": "execute_result"
    }
   ],
   "source": [
    "os.environ[\"PATH\"] += os.pathsep + 'C:/Program Files (x86)/Graphviz2.38/bin/'\n",
    "\n",
    "os.system('dot -Tpng my_tree.dot -o my_tree.png')"
   ]
  },
  {
   "cell_type": "code",
   "execution_count": 117,
   "metadata": {},
   "outputs": [
    {
     "data": {
      "text/plain": [
       "[('FIRST_WEB_LOGIN_DATE', 0.0),\n",
       " ('ZIP_CD', 0.0),\n",
       " ('FIRST_APP_LOGIN_DATE', 0.0),\n",
       " ('AGE_35-49', 0.0),\n",
       " ('AGE_50-64', 0.0),\n",
       " ('vc_completion_date', 0.0),\n",
       " ('AGE_19-34', 0.0),\n",
       " ('earned_status_adj_Silver', 0.0),\n",
       " ('earned_status_adj_Gold', 0.0),\n",
       " ('AGE_65-80', 0.0),\n",
       " ('hra_completion_date', 0.026396925481480142),\n",
       " ('earned_status_adj_Bronze', 0.07315759104049478),\n",
       " ('eventdesc', 0.09339277062184427),\n",
       " ('earned_status_adj_Platinum', 0.1638688601055948),\n",
       " ('partner_name', 0.6431838527505859)]"
      ]
     },
     "execution_count": 117,
     "metadata": {},
     "output_type": "execute_result"
    }
   ],
   "source": [
    "\n",
    "sorted(list(zip(feature_cols, treeclf.feature_importances_)), key=operator.itemgetter(1))"
   ]
  },
  {
   "cell_type": "code",
   "execution_count": 188,
   "metadata": {},
   "outputs": [
    {
     "data": {
      "image/png": "[encoded data removed]",
      "text/plain": [
       "<matplotlib.figure.Figure at 0x32f7ee80>"
      ]
     },
     "metadata": {},
     "output_type": "display_data"
    }
   ],
   "source": [
    "\n",
    "dims = (10, 10)\n",
    "fig, ax = plt.subplots(figsize=dims)\n",
    "plt.title(\"Feature Importances\")\n",
    "g = sns.barplot(ax=ax, x=feature_cols, y=treeclf.feature_importances_).set_xticklabels(rotation=90,labels=feature_cols)\n"
   ]
  },
  {
   "cell_type": "code",
   "execution_count": 175,
   "metadata": {},
   "outputs": [
    {
     "data": {
      "text/plain": [
       "[Text(0,0,u'FIRST_WEB_LOGIN_DATE'),\n",
       " Text(0,0,u'ZIP_CD'),\n",
       " Text(0,0,u'hra_completion_date'),\n",
       " Text(0,0,u'FIRST_APP_LOGIN_DATE'),\n",
       " Text(0,0,u'earned_status_adj_Bronze'),\n",
       " Text(0,0,u'partner_name'),\n",
       " Text(0,0,u'AGE_35-49'),\n",
       " Text(0,0,u'AGE_50-64'),\n",
       " Text(0,0,u'vc_completion_date'),\n",
       " Text(0,0,u'AGE_19-34'),\n",
       " Text(0,0,u'earned_status_adj_Silver'),\n",
       " Text(0,0,u'earned_status_adj_Gold'),\n",
       " Text(0,0,u'earned_status_adj_Platinum'),\n",
       " Text(0,0,u'eventdesc'),\n",
       " Text(0,0,u'AGE_65-80')]"
      ]
     },
     "execution_count": 175,
     "metadata": {},
     "output_type": "execute_result"
    }
   ],
   "source": []
  },
  {
   "cell_type": "code",
   "execution_count": 196,
   "metadata": {},
   "outputs": [],
   "source": [
    "\n",
    "predicted = treeclf.predict(mydata.loc[:, feature_cols])\n",
    "expected = mydata.loc[:, 'CONTACT']"
   ]
  },
  {
   "cell_type": "code",
   "execution_count": 211,
   "metadata": {},
   "outputs": [
    {
     "data": {
      "text/html": [
       "<div>\n",
       "<style scoped>\n",
       "    .dataframe tbody tr th:only-of-type {\n",
       "        vertical-align: middle;\n",
       "    }\n",
       "\n",
       "    .dataframe tbody tr th {\n",
       "        vertical-align: top;\n",
       "    }\n",
       "\n",
       "    .dataframe thead th {\n",
       "        text-align: right;\n",
       "    }\n",
       "</style>\n",
       "<table border=\"1\" class=\"dataframe\">\n",
       "  <thead>\n",
       "    <tr style=\"text-align: right;\">\n",
       "      <th></th>\n",
       "      <th>0</th>\n",
       "    </tr>\n",
       "    <tr>\n",
       "      <th>CONTACT</th>\n",
       "      <th></th>\n",
       "    </tr>\n",
       "  </thead>\n",
       "  <tbody>\n",
       "    <tr>\n",
       "      <th>0</th>\n",
       "      <td>0</td>\n",
       "    </tr>\n",
       "    <tr>\n",
       "      <th>1</th>\n",
       "      <td>0</td>\n",
       "    </tr>\n",
       "    <tr>\n",
       "      <th>0</th>\n",
       "      <td>0</td>\n",
       "    </tr>\n",
       "    <tr>\n",
       "      <th>1</th>\n",
       "      <td>0</td>\n",
       "    </tr>\n",
       "    <tr>\n",
       "      <th>1</th>\n",
       "      <td>0</td>\n",
       "    </tr>\n",
       "  </tbody>\n",
       "</table>\n",
       "</div>"
      ],
      "text/plain": [
       "         0\n",
       "CONTACT   \n",
       "0        0\n",
       "1        0\n",
       "0        0\n",
       "1        0\n",
       "1        0"
      ]
     },
     "execution_count": 211,
     "metadata": {},
     "output_type": "execute_result"
    }
   ],
   "source": [
    "ff.head()"
   ]
  },
  {
   "cell_type": "code",
   "execution_count": null,
   "metadata": {},
   "outputs": [],
   "source": []
  }
 ],
 "metadata": {
  "kernelspec": {
   "display_name": "Python 2",
   "language": "python",
   "name": "python2"
  },
  "language_info": {
   "codemirror_mode": {
    "name": "ipython",
    "version": 2
   },
   "file_extension": ".py",
   "mimetype": "text/x-python",
   "name": "python",
   "nbconvert_exporter": "python",
   "pygments_lexer": "ipython2",
   "version": "2.7.15"
  }
 },
 "nbformat": 4,
 "nbformat_minor": 2
}
